{
  "nbformat": 4,
  "nbformat_minor": 0,
  "metadata": {
    "colab": {
      "name": "practica00.ipynb",
      "provenance": [],
      "include_colab_link": true
    },
    "kernelspec": {
      "name": "python3",
      "display_name": "Python 3"
    },
    "accelerator": "GPU"
  },
  "cells": [
    {
      "cell_type": "markdown",
      "metadata": {
        "id": "view-in-github",
        "colab_type": "text"
      },
      "source": [
        "<a href=\"https://colab.research.google.com/github/jambdeep/IAySExpertos/blob/main/demostracion_neurona_0R.ipynb\" target=\"_parent\"><img src=\"https://colab.research.google.com/assets/colab-badge.svg\" alt=\"Open In Colab\"/></a>"
      ]
    },
    {
      "cell_type": "code",
      "metadata": {
        "id": "F6cw58GCFWbf"
      },
      "source": [
        "import tensorflow as tf"
      ],
      "execution_count": null,
      "outputs": []
    },
    {
      "cell_type": "code",
      "metadata": {
        "id": "Uo69gL-gFuHU"
      },
      "source": [
        "T = 1.0\n",
        "F = 0.0\n",
        "bias = 1.0"
      ],
      "execution_count": null,
      "outputs": []
    },
    {
      "cell_type": "code",
      "metadata": {
        "id": "ijNYK9GwFzFs"
      },
      "source": [
        "def get_AND_data():\n",
        "    X = [\n",
        "    [F, F, bias],\n",
        "    [F, T, bias],\n",
        "    [T, F, bias],\n",
        "    [T, T, bias]\n",
        "    ]\n",
        "    \n",
        "    Y = [\n",
        "        [F],\n",
        "        [F],\n",
        "        [F],\n",
        "        [T]\n",
        "    ]\n",
        "    \n",
        "    return X, Y\n",
        "\n",
        "def get_OR_data():   \n",
        "    X = [\n",
        "    [F, F, bias],\n",
        "    [F, T, bias],\n",
        "    [T, F, bias],\n",
        "    [T, T, bias]\n",
        "    ]\n",
        "    \n",
        "    Y = [\n",
        "        [F],\n",
        "        [T],\n",
        "        [T],\n",
        "        [T]\n",
        "    ]\n",
        "    \n",
        "    return X, Y\n",
        "\n",
        "def get_XOR_data():\n",
        "    X = [\n",
        "    [F, F, bias],\n",
        "    [F, T, bias],\n",
        "    [T, F, bias],\n",
        "    [T, T, bias]\n",
        "    ]\n",
        "    \n",
        "    Y = [\n",
        "        [F],\n",
        "        [T],\n",
        "        [T],\n",
        "        [F]\n",
        "    ]\n",
        "    \n",
        "    return X, Y"
      ],
      "execution_count": null,
      "outputs": []
    },
    {
      "cell_type": "code",
      "metadata": {
        "id": "MMdvO7QhF3-0"
      },
      "source": [
        "X, Y = get_OR_data()"
      ],
      "execution_count": null,
      "outputs": []
    },
    {
      "cell_type": "code",
      "metadata": {
        "id": "mx6VjB4gF817"
      },
      "source": [
        "W = tf.Variable(tf.random_normal([3, 1]))"
      ],
      "execution_count": null,
      "outputs": []
    },
    {
      "cell_type": "code",
      "metadata": {
        "id": "gzs77J1JM7tz",
        "colab": {
          "base_uri": "https://localhost:8080/",
          "height": 36
        },
        "outputId": "16855ad6-923c-45db-9a84-745aac5f0374"
      },
      "source": [
        "W.shape"
      ],
      "execution_count": null,
      "outputs": [
        {
          "output_type": "execute_result",
          "data": {
            "text/plain": [
              "TensorShape([Dimension(3), Dimension(1)])"
            ]
          },
          "metadata": {
            "tags": []
          },
          "execution_count": 6
        }
      ]
    },
    {
      "cell_type": "code",
      "metadata": {
        "id": "tym6GtqcGLbT"
      },
      "source": [
        "def step(x):\n",
        "    return tf.to_float(tf.greater(x, 0))"
      ],
      "execution_count": null,
      "outputs": []
    },
    {
      "cell_type": "code",
      "metadata": {
        "id": "-8Ky32xAGQWb",
        "colab": {
          "base_uri": "https://localhost:8080/",
          "height": 93
        },
        "outputId": "e032af21-4896-420c-9e1c-7d73eb7763e7"
      },
      "source": [
        "f = tf.matmul(X, W)\n",
        "output = step(f)\n",
        "error = tf.subtract(Y, output)\n",
        "mse = tf.reduce_mean(tf.square(error))"
      ],
      "execution_count": null,
      "outputs": [
        {
          "output_type": "stream",
          "text": [
            "WARNING:tensorflow:From <ipython-input-8-f9e732f26349>:2: to_float (from tensorflow.python.ops.math_ops) is deprecated and will be removed in a future version.\n",
            "Instructions for updating:\n",
            "Use `tf.cast` instead.\n"
          ],
          "name": "stdout"
        }
      ]
    },
    {
      "cell_type": "code",
      "metadata": {
        "id": "WrEMJROGGSHz"
      },
      "source": [
        "delta = tf.matmul(X, error, transpose_a=True)\n",
        "train = tf.assign(W, tf.add(W, delta))"
      ],
      "execution_count": null,
      "outputs": []
    },
    {
      "cell_type": "code",
      "metadata": {
        "id": "Hudgf3hBGYoM",
        "colab": {
          "base_uri": "https://localhost:8080/",
          "height": 205
        },
        "outputId": "379f1b73-32de-4dcb-a91c-4db4178c23c5"
      },
      "source": [
        "# Initialize the variables (i.e. assign their default value)\n",
        "init = tf.global_variables_initializer()\n",
        "\n",
        "# Start training\n",
        "with tf.Session() as sess:\n",
        "    # Run the initializer\n",
        "    sess.run(init)\n",
        "    err = 1\n",
        "    epoch, max_epochs = 0, 20\n",
        "    while err > 0.0 and epoch < max_epochs:\n",
        "        epoch += 1\n",
        "        err = sess.run(mse)\n",
        "        sess.run(train)\n",
        "        print('epoch:', epoch, 'mse:', err)\n",
        "        \n",
        "    print(\"\\nTesting Result:\")\n",
        "    print(sess.run([output]))"
      ],
      "execution_count": null,
      "outputs": [
        {
          "output_type": "stream",
          "text": [
            "epoch: 1 mse: 0.5\n",
            "epoch: 2 mse: 0.25\n",
            "epoch: 3 mse: 0.25\n",
            "epoch: 4 mse: 0.0\n",
            "\n",
            "Testing Result:\n",
            "[array([[0.],\n",
            "       [1.],\n",
            "       [1.],\n",
            "       [1.]], dtype=float32)]\n"
          ],
          "name": "stdout"
        }
      ]
    }
  ]
}
