{
  "nbformat": 4,
  "nbformat_minor": 0,
  "metadata": {
    "colab": {
      "name": "ANN_and.ipynb",
      "provenance": [],
      "include_colab_link": true
    },
    "kernelspec": {
      "name": "python3",
      "display_name": "Python 3"
    }
  },
  "cells": [
    {
      "cell_type": "markdown",
      "metadata": {
        "id": "view-in-github",
        "colab_type": "text"
      },
      "source": [
        "<a href=\"https://colab.research.google.com/github/jambdeep/IAySExpertos/blob/main/ANN_and.ipynb\" target=\"_parent\"><img src=\"https://colab.research.google.com/assets/colab-badge.svg\" alt=\"Open In Colab\"/></a>"
      ]
    },
    {
      "cell_type": "code",
      "metadata": {
        "id": "Y9CVWW3TFki5"
      },
      "source": [
        "import pandas as pd\n",
        "import numpy as np\n",
        "# cargamos las 4 combinaciones de las compuertas AND\n",
        "dataset = pd.read_csv('gdrive/My Drive/USB-TE/and.csv')\n",
        "dataset.head()"
      ],
      "execution_count": null,
      "outputs": []
    },
    {
      "cell_type": "code",
      "metadata": {
        "id": "R3Tsih5LGSkI"
      },
      "source": [
        "dataset_columns = dataset.columns\n",
        "training_data = dataset[dataset_columns[dataset_columns != 'y']] # todas las columnas excepto la salida Y\n",
        "target_data = dataset['y'] # solo y"
      ],
      "execution_count": null,
      "outputs": []
    },
    {
      "cell_type": "code",
      "metadata": {
        "id": "bk9Xl9j3HoGF",
        "colab": {
          "base_uri": "https://localhost:8080/",
          "height": 168
        },
        "outputId": "533da853-31d1-4e80-cdc3-535cd78666f3"
      },
      "source": [
        "training_data"
      ],
      "execution_count": null,
      "outputs": [
        {
          "output_type": "execute_result",
          "data": {
            "text/html": [
              "<div>\n",
              "<style scoped>\n",
              "    .dataframe tbody tr th:only-of-type {\n",
              "        vertical-align: middle;\n",
              "    }\n",
              "\n",
              "    .dataframe tbody tr th {\n",
              "        vertical-align: top;\n",
              "    }\n",
              "\n",
              "    .dataframe thead th {\n",
              "        text-align: right;\n",
              "    }\n",
              "</style>\n",
              "<table border=\"1\" class=\"dataframe\">\n",
              "  <thead>\n",
              "    <tr style=\"text-align: right;\">\n",
              "      <th></th>\n",
              "      <th>x1</th>\n",
              "      <th>x2</th>\n",
              "    </tr>\n",
              "  </thead>\n",
              "  <tbody>\n",
              "    <tr>\n",
              "      <th>0</th>\n",
              "      <td>0</td>\n",
              "      <td>0</td>\n",
              "    </tr>\n",
              "    <tr>\n",
              "      <th>1</th>\n",
              "      <td>0</td>\n",
              "      <td>1</td>\n",
              "    </tr>\n",
              "    <tr>\n",
              "      <th>2</th>\n",
              "      <td>1</td>\n",
              "      <td>0</td>\n",
              "    </tr>\n",
              "    <tr>\n",
              "      <th>3</th>\n",
              "      <td>1</td>\n",
              "      <td>1</td>\n",
              "    </tr>\n",
              "  </tbody>\n",
              "</table>\n",
              "</div>"
            ],
            "text/plain": [
              "   x1  x2\n",
              "0   0   0\n",
              "1   0   1\n",
              "2   1   0\n",
              "3   1   1"
            ]
          },
          "metadata": {
            "tags": []
          },
          "execution_count": 6
        }
      ]
    },
    {
      "cell_type": "code",
      "metadata": {
        "id": "8PH4oYV5HrzM",
        "colab": {
          "base_uri": "https://localhost:8080/",
          "height": 108
        },
        "outputId": "5d42880b-7cd8-4356-8da5-b51f49b989ea"
      },
      "source": [
        "target_data"
      ],
      "execution_count": null,
      "outputs": [
        {
          "output_type": "execute_result",
          "data": {
            "text/plain": [
              "0    0\n",
              "1    0\n",
              "2    0\n",
              "3    1\n",
              "Name: y, dtype: int64"
            ]
          },
          "metadata": {
            "tags": []
          },
          "execution_count": 7
        }
      ]
    },
    {
      "cell_type": "code",
      "metadata": {
        "id": "QPNT3E3HH9Xl",
        "colab": {
          "base_uri": "https://localhost:8080/",
          "height": 35
        },
        "outputId": "6f1a8059-d332-4547-ab3d-722f6153b1d5"
      },
      "source": [
        "training_data.shape"
      ],
      "execution_count": null,
      "outputs": [
        {
          "output_type": "execute_result",
          "data": {
            "text/plain": [
              "(4, 2)"
            ]
          },
          "metadata": {
            "tags": []
          },
          "execution_count": 8
        }
      ]
    },
    {
      "cell_type": "code",
      "metadata": {
        "id": "3vEXvnYmIu1T"
      },
      "source": [
        "n_cols = training_data.shape[1]"
      ],
      "execution_count": null,
      "outputs": []
    },
    {
      "cell_type": "code",
      "metadata": {
        "id": "BxHKMHiyIw5L",
        "colab": {
          "base_uri": "https://localhost:8080/",
          "height": 35
        },
        "outputId": "45d63b83-8b1a-499a-b1b4-20a7d48f8e9c"
      },
      "source": [
        "n_cols"
      ],
      "execution_count": null,
      "outputs": [
        {
          "output_type": "execute_result",
          "data": {
            "text/plain": [
              "2"
            ]
          },
          "metadata": {
            "tags": []
          },
          "execution_count": 10
        }
      ]
    },
    {
      "cell_type": "code",
      "metadata": {
        "id": "-_TfYhs0L_g0",
        "colab": {
          "base_uri": "https://localhost:8080/",
          "height": 35
        },
        "outputId": "13926704-e15e-4f28-b23f-3ce01933dfd3"
      },
      "source": [
        "import keras\n",
        "from keras.models import Sequential  #uso del modelo secuencial\n",
        "from keras.layers import Dense  "
      ],
      "execution_count": null,
      "outputs": [
        {
          "output_type": "stream",
          "text": [
            "Using TensorFlow backend.\n"
          ],
          "name": "stderr"
        }
      ]
    },
    {
      "cell_type": "code",
      "metadata": {
        "id": "BkCJ1CeLMCo9"
      },
      "source": [
        "model = Sequential()\n",
        "model.add(Dense(2, input_dim=n_cols, activation='tanh'))\n",
        "model.add(Dense(1, activation='tanh'))"
      ],
      "execution_count": null,
      "outputs": []
    },
    {
      "cell_type": "code",
      "metadata": {
        "id": "np0pvukeMGzt"
      },
      "source": [
        "model.compile(loss='mean_squared_error',\n",
        "              optimizer='adam',\n",
        "              metrics=['binary_accuracy'])"
      ],
      "execution_count": null,
      "outputs": []
    },
    {
      "cell_type": "code",
      "metadata": {
        "id": "JIVOFdHpMNKk",
        "colab": {
          "base_uri": "https://localhost:8080/",
          "height": 35
        },
        "outputId": "12d07b51-d161-41b8-bc4d-25d30d68fdb9"
      },
      "source": [
        "model.metrics_names"
      ],
      "execution_count": null,
      "outputs": [
        {
          "output_type": "execute_result",
          "data": {
            "text/plain": [
              "['loss', 'binary_accuracy']"
            ]
          },
          "metadata": {
            "tags": []
          },
          "execution_count": 15
        }
      ]
    },
    {
      "cell_type": "code",
      "metadata": {
        "id": "iVcf5IwWNYJ7",
        "colab": {
          "base_uri": "https://localhost:8080/",
          "height": 3654
        },
        "outputId": "83e29151-c6db-4c37-d8f0-0a4660c062a2"
      },
      "source": [
        "model.fit(training_data, target_data, epochs=100)\n",
        " \n",
        "# evaluamos el modelo\n",
        "scores = model.evaluate(training_data, target_data, verbose=2)"
      ],
      "execution_count": null,
      "outputs": [
        {
          "output_type": "stream",
          "text": [
            "Epoch 1/100\n",
            "4/4 [==============================] - 0s 799us/step - loss: 0.0758 - binary_accuracy: 1.0000\n",
            "Epoch 2/100\n",
            "4/4 [==============================] - 0s 873us/step - loss: 0.0757 - binary_accuracy: 1.0000\n",
            "Epoch 3/100\n",
            "4/4 [==============================] - 0s 1ms/step - loss: 0.0756 - binary_accuracy: 1.0000\n",
            "Epoch 4/100\n",
            "4/4 [==============================] - 0s 735us/step - loss: 0.0755 - binary_accuracy: 1.0000\n",
            "Epoch 5/100\n",
            "4/4 [==============================] - 0s 770us/step - loss: 0.0755 - binary_accuracy: 1.0000\n",
            "Epoch 6/100\n",
            "4/4 [==============================] - 0s 633us/step - loss: 0.0754 - binary_accuracy: 1.0000\n",
            "Epoch 7/100\n",
            "4/4 [==============================] - 0s 1ms/step - loss: 0.0753 - binary_accuracy: 1.0000\n",
            "Epoch 8/100\n",
            "4/4 [==============================] - 0s 639us/step - loss: 0.0753 - binary_accuracy: 1.0000\n",
            "Epoch 9/100\n",
            "4/4 [==============================] - 0s 697us/step - loss: 0.0752 - binary_accuracy: 1.0000\n",
            "Epoch 10/100\n",
            "4/4 [==============================] - 0s 1ms/step - loss: 0.0751 - binary_accuracy: 1.0000\n",
            "Epoch 11/100\n",
            "4/4 [==============================] - 0s 1ms/step - loss: 0.0750 - binary_accuracy: 1.0000\n",
            "Epoch 12/100\n",
            "4/4 [==============================] - 0s 941us/step - loss: 0.0750 - binary_accuracy: 1.0000\n",
            "Epoch 13/100\n",
            "4/4 [==============================] - 0s 1ms/step - loss: 0.0749 - binary_accuracy: 1.0000\n",
            "Epoch 14/100\n",
            "4/4 [==============================] - 0s 476us/step - loss: 0.0748 - binary_accuracy: 1.0000\n",
            "Epoch 15/100\n",
            "4/4 [==============================] - 0s 512us/step - loss: 0.0747 - binary_accuracy: 1.0000\n",
            "Epoch 16/100\n",
            "4/4 [==============================] - 0s 450us/step - loss: 0.0746 - binary_accuracy: 1.0000\n",
            "Epoch 17/100\n",
            "4/4 [==============================] - 0s 427us/step - loss: 0.0746 - binary_accuracy: 1.0000\n",
            "Epoch 18/100\n",
            "4/4 [==============================] - 0s 635us/step - loss: 0.0745 - binary_accuracy: 1.0000\n",
            "Epoch 19/100\n",
            "4/4 [==============================] - 0s 418us/step - loss: 0.0744 - binary_accuracy: 1.0000\n",
            "Epoch 20/100\n",
            "4/4 [==============================] - 0s 770us/step - loss: 0.0743 - binary_accuracy: 1.0000\n",
            "Epoch 21/100\n",
            "4/4 [==============================] - 0s 816us/step - loss: 0.0743 - binary_accuracy: 1.0000\n",
            "Epoch 22/100\n",
            "4/4 [==============================] - 0s 652us/step - loss: 0.0742 - binary_accuracy: 1.0000\n",
            "Epoch 23/100\n",
            "4/4 [==============================] - 0s 566us/step - loss: 0.0741 - binary_accuracy: 1.0000\n",
            "Epoch 24/100\n",
            "4/4 [==============================] - 0s 591us/step - loss: 0.0740 - binary_accuracy: 1.0000\n",
            "Epoch 25/100\n",
            "4/4 [==============================] - 0s 1ms/step - loss: 0.0739 - binary_accuracy: 1.0000\n",
            "Epoch 26/100\n",
            "4/4 [==============================] - 0s 430us/step - loss: 0.0739 - binary_accuracy: 1.0000\n",
            "Epoch 27/100\n",
            "4/4 [==============================] - 0s 731us/step - loss: 0.0738 - binary_accuracy: 1.0000\n",
            "Epoch 28/100\n",
            "4/4 [==============================] - 0s 928us/step - loss: 0.0737 - binary_accuracy: 1.0000\n",
            "Epoch 29/100\n",
            "4/4 [==============================] - 0s 597us/step - loss: 0.0736 - binary_accuracy: 1.0000\n",
            "Epoch 30/100\n",
            "4/4 [==============================] - 0s 955us/step - loss: 0.0735 - binary_accuracy: 1.0000\n",
            "Epoch 31/100\n",
            "4/4 [==============================] - 0s 869us/step - loss: 0.0735 - binary_accuracy: 1.0000\n",
            "Epoch 32/100\n",
            "4/4 [==============================] - 0s 1ms/step - loss: 0.0734 - binary_accuracy: 1.0000\n",
            "Epoch 33/100\n",
            "4/4 [==============================] - 0s 522us/step - loss: 0.0733 - binary_accuracy: 1.0000\n",
            "Epoch 34/100\n",
            "4/4 [==============================] - 0s 612us/step - loss: 0.0732 - binary_accuracy: 1.0000\n",
            "Epoch 35/100\n",
            "4/4 [==============================] - 0s 1ms/step - loss: 0.0731 - binary_accuracy: 1.0000\n",
            "Epoch 36/100\n",
            "4/4 [==============================] - 0s 1ms/step - loss: 0.0730 - binary_accuracy: 1.0000\n",
            "Epoch 37/100\n",
            "4/4 [==============================] - 0s 670us/step - loss: 0.0730 - binary_accuracy: 1.0000\n",
            "Epoch 38/100\n",
            "4/4 [==============================] - 0s 985us/step - loss: 0.0729 - binary_accuracy: 1.0000\n",
            "Epoch 39/100\n",
            "4/4 [==============================] - 0s 617us/step - loss: 0.0728 - binary_accuracy: 1.0000\n",
            "Epoch 40/100\n",
            "4/4 [==============================] - 0s 903us/step - loss: 0.0727 - binary_accuracy: 1.0000\n",
            "Epoch 41/100\n",
            "4/4 [==============================] - 0s 1ms/step - loss: 0.0726 - binary_accuracy: 1.0000\n",
            "Epoch 42/100\n",
            "4/4 [==============================] - 0s 960us/step - loss: 0.0725 - binary_accuracy: 1.0000\n",
            "Epoch 43/100\n",
            "4/4 [==============================] - 0s 393us/step - loss: 0.0724 - binary_accuracy: 1.0000\n",
            "Epoch 44/100\n",
            "4/4 [==============================] - 0s 568us/step - loss: 0.0724 - binary_accuracy: 1.0000\n",
            "Epoch 45/100\n",
            "4/4 [==============================] - 0s 859us/step - loss: 0.0723 - binary_accuracy: 1.0000\n",
            "Epoch 46/100\n",
            "4/4 [==============================] - 0s 558us/step - loss: 0.0722 - binary_accuracy: 1.0000\n",
            "Epoch 47/100\n",
            "4/4 [==============================] - 0s 489us/step - loss: 0.0721 - binary_accuracy: 1.0000\n",
            "Epoch 48/100\n",
            "4/4 [==============================] - 0s 1ms/step - loss: 0.0720 - binary_accuracy: 1.0000\n",
            "Epoch 49/100\n",
            "4/4 [==============================] - 0s 438us/step - loss: 0.0719 - binary_accuracy: 1.0000\n",
            "Epoch 50/100\n",
            "4/4 [==============================] - 0s 515us/step - loss: 0.0718 - binary_accuracy: 1.0000\n",
            "Epoch 51/100\n",
            "4/4 [==============================] - 0s 390us/step - loss: 0.0717 - binary_accuracy: 1.0000\n",
            "Epoch 52/100\n",
            "4/4 [==============================] - 0s 492us/step - loss: 0.0716 - binary_accuracy: 1.0000\n",
            "Epoch 53/100\n",
            "4/4 [==============================] - 0s 469us/step - loss: 0.0715 - binary_accuracy: 1.0000\n",
            "Epoch 54/100\n",
            "4/4 [==============================] - 0s 818us/step - loss: 0.0714 - binary_accuracy: 1.0000\n",
            "Epoch 55/100\n",
            "4/4 [==============================] - 0s 3ms/step - loss: 0.0714 - binary_accuracy: 1.0000\n",
            "Epoch 56/100\n",
            "4/4 [==============================] - 0s 1ms/step - loss: 0.0713 - binary_accuracy: 1.0000\n",
            "Epoch 57/100\n",
            "4/4 [==============================] - 0s 592us/step - loss: 0.0712 - binary_accuracy: 1.0000\n",
            "Epoch 58/100\n",
            "4/4 [==============================] - 0s 999us/step - loss: 0.0711 - binary_accuracy: 1.0000\n",
            "Epoch 59/100\n",
            "4/4 [==============================] - 0s 589us/step - loss: 0.0710 - binary_accuracy: 1.0000\n",
            "Epoch 60/100\n",
            "4/4 [==============================] - 0s 559us/step - loss: 0.0709 - binary_accuracy: 1.0000\n",
            "Epoch 61/100\n",
            "4/4 [==============================] - 0s 568us/step - loss: 0.0708 - binary_accuracy: 1.0000\n",
            "Epoch 62/100\n",
            "4/4 [==============================] - 0s 479us/step - loss: 0.0707 - binary_accuracy: 1.0000\n",
            "Epoch 63/100\n",
            "4/4 [==============================] - 0s 679us/step - loss: 0.0706 - binary_accuracy: 1.0000\n",
            "Epoch 64/100\n",
            "4/4 [==============================] - 0s 481us/step - loss: 0.0705 - binary_accuracy: 1.0000\n",
            "Epoch 65/100\n",
            "4/4 [==============================] - 0s 484us/step - loss: 0.0704 - binary_accuracy: 1.0000\n",
            "Epoch 66/100\n",
            "4/4 [==============================] - 0s 797us/step - loss: 0.0703 - binary_accuracy: 1.0000\n",
            "Epoch 67/100\n",
            "4/4 [==============================] - 0s 522us/step - loss: 0.0702 - binary_accuracy: 1.0000\n",
            "Epoch 68/100\n",
            "4/4 [==============================] - 0s 632us/step - loss: 0.0701 - binary_accuracy: 1.0000\n",
            "Epoch 69/100\n",
            "4/4 [==============================] - 0s 458us/step - loss: 0.0700 - binary_accuracy: 1.0000\n",
            "Epoch 70/100\n",
            "4/4 [==============================] - 0s 444us/step - loss: 0.0699 - binary_accuracy: 1.0000\n",
            "Epoch 71/100\n",
            "4/4 [==============================] - 0s 472us/step - loss: 0.0698 - binary_accuracy: 1.0000\n",
            "Epoch 72/100\n",
            "4/4 [==============================] - 0s 485us/step - loss: 0.0697 - binary_accuracy: 1.0000\n",
            "Epoch 73/100\n",
            "4/4 [==============================] - 0s 502us/step - loss: 0.0695 - binary_accuracy: 1.0000\n",
            "Epoch 74/100\n",
            "4/4 [==============================] - 0s 509us/step - loss: 0.0694 - binary_accuracy: 1.0000\n",
            "Epoch 75/100\n",
            "4/4 [==============================] - 0s 589us/step - loss: 0.0693 - binary_accuracy: 1.0000\n",
            "Epoch 76/100\n",
            "4/4 [==============================] - 0s 734us/step - loss: 0.0692 - binary_accuracy: 1.0000\n",
            "Epoch 77/100\n",
            "4/4 [==============================] - 0s 468us/step - loss: 0.0691 - binary_accuracy: 1.0000\n",
            "Epoch 78/100\n",
            "4/4 [==============================] - 0s 480us/step - loss: 0.0690 - binary_accuracy: 1.0000\n",
            "Epoch 79/100\n",
            "4/4 [==============================] - 0s 501us/step - loss: 0.0689 - binary_accuracy: 1.0000\n",
            "Epoch 80/100\n",
            "4/4 [==============================] - 0s 423us/step - loss: 0.0688 - binary_accuracy: 1.0000\n",
            "Epoch 81/100\n",
            "4/4 [==============================] - 0s 490us/step - loss: 0.0687 - binary_accuracy: 1.0000\n",
            "Epoch 82/100\n",
            "4/4 [==============================] - 0s 496us/step - loss: 0.0686 - binary_accuracy: 1.0000\n",
            "Epoch 83/100\n",
            "4/4 [==============================] - 0s 453us/step - loss: 0.0684 - binary_accuracy: 1.0000\n",
            "Epoch 84/100\n",
            "4/4 [==============================] - 0s 428us/step - loss: 0.0683 - binary_accuracy: 1.0000\n",
            "Epoch 85/100\n",
            "4/4 [==============================] - 0s 660us/step - loss: 0.0682 - binary_accuracy: 1.0000\n",
            "Epoch 86/100\n",
            "4/4 [==============================] - 0s 444us/step - loss: 0.0681 - binary_accuracy: 1.0000\n",
            "Epoch 87/100\n",
            "4/4 [==============================] - 0s 375us/step - loss: 0.0680 - binary_accuracy: 1.0000\n",
            "Epoch 88/100\n",
            "4/4 [==============================] - 0s 455us/step - loss: 0.0678 - binary_accuracy: 1.0000\n",
            "Epoch 89/100\n",
            "4/4 [==============================] - 0s 639us/step - loss: 0.0677 - binary_accuracy: 1.0000\n",
            "Epoch 90/100\n",
            "4/4 [==============================] - 0s 597us/step - loss: 0.0676 - binary_accuracy: 1.0000\n",
            "Epoch 91/100\n",
            "4/4 [==============================] - 0s 466us/step - loss: 0.0675 - binary_accuracy: 1.0000\n",
            "Epoch 92/100\n",
            "4/4 [==============================] - 0s 489us/step - loss: 0.0674 - binary_accuracy: 1.0000\n",
            "Epoch 93/100\n",
            "4/4 [==============================] - 0s 536us/step - loss: 0.0672 - binary_accuracy: 1.0000\n",
            "Epoch 94/100\n",
            "4/4 [==============================] - 0s 553us/step - loss: 0.0671 - binary_accuracy: 1.0000\n",
            "Epoch 95/100\n",
            "4/4 [==============================] - 0s 497us/step - loss: 0.0670 - binary_accuracy: 1.0000\n",
            "Epoch 96/100\n",
            "4/4 [==============================] - 0s 480us/step - loss: 0.0669 - binary_accuracy: 1.0000\n",
            "Epoch 97/100\n",
            "4/4 [==============================] - 0s 480us/step - loss: 0.0667 - binary_accuracy: 1.0000\n",
            "Epoch 98/100\n",
            "4/4 [==============================] - 0s 639us/step - loss: 0.0666 - binary_accuracy: 1.0000\n",
            "Epoch 99/100\n",
            "4/4 [==============================] - 0s 685us/step - loss: 0.0665 - binary_accuracy: 1.0000\n",
            "Epoch 100/100\n",
            "4/4 [==============================] - 0s 634us/step - loss: 0.0663 - binary_accuracy: 1.0000\n"
          ],
          "name": "stdout"
        }
      ]
    },
    {
      "cell_type": "code",
      "metadata": {
        "id": "kT1ts3QqNc-i",
        "colab": {
          "base_uri": "https://localhost:8080/",
          "height": 126
        },
        "outputId": "6731cd7f-dfa2-4688-997b-b8c3f9202177"
      },
      "source": [
        "print(\"\\n%s: %.2f%%\" % (model.metrics_names[1], scores[1]*100))\n",
        "print (model.predict(training_data).round())"
      ],
      "execution_count": null,
      "outputs": [
        {
          "output_type": "stream",
          "text": [
            "\n",
            "binary_accuracy: 100.00%\n",
            "[[0.]\n",
            " [0.]\n",
            " [0.]\n",
            " [1.]]\n"
          ],
          "name": "stdout"
        }
      ]
    }
  ]
}